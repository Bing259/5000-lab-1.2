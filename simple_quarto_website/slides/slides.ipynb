{
 "cells": [
  {
   "cell_type": "markdown",
   "metadata": {},
   "source": [
    "---\n",
    "title: \"Presentation\"\n",
    "author: \"Binghui Ni\"\n",
    "execute:\n",
    "  echo: false\n",
    "jupyter: python3\n",
    "format: \n",
    "  revealjs:\n",
    "    slide-number: true\n",
    "    code-fold: true\n",
    "    echo: false\n",
    "    output: true\n",
    "bibliography: ../reference.bib\n",
    "---\n",
    "\n",
    "## The first slide\n",
    "\n",
    "- This is a quote. [@sharma2018nickel]\n",
    "\n",
    "## The second slide\n",
    "\n",
    "::: {layout-ncol=2}\n",
    "\n",
    "![First Image](./images/image1.png){fig-align=\"left\" width=\"6.62in\" height=\"4in\"}\n",
    "\n",
    "![Second Image](./images/image2.png){fig-align=\"left\" width=\"6.14in\" height=\"4in\"}\n",
    "\n",
    ":::\n",
    "\n",
    "## The third slide\n",
    "\n",
    "```{python}\n",
    "import matplotlib.pyplot as plt\n",
    "import numpy as np\n",
    "x = np.arange(0, 10, 0.01)\n",
    "y = np.cos(x)\n",
    "plt.plot(x, y)\n",
    "plt.show()\n",
    "```\n",
    "\n",
    "## Reference\n",
    "\n",
    "::: {#refs}\n",
    ":::\n"
   ]
  }
 ],
 "metadata": {
  "kernelspec": {
   "display_name": "Python 3 (ipykernel)",
   "language": "python",
   "name": "python3"
  },
  "language_info": {
   "codemirror_mode": {
    "name": "ipython",
    "version": 3
   },
   "file_extension": ".py",
   "mimetype": "text/x-python",
   "name": "python",
   "nbconvert_exporter": "python",
   "pygments_lexer": "ipython3",
   "version": "3.12.4"
  }
 },
 "nbformat": 4,
 "nbformat_minor": 4
}
