{
 "cells": [
  {
   "cell_type": "markdown",
   "metadata": {},
   "source": [
    "---\n",
    "title: \"Presentation\"\n",
    "author: \"Binghui Ni\"\n",
    "execute:\n",
    "  echo: false\n",
    "jupyter: python3\n",
    "format: \n",
    "  revealjs:\n",
    "    slide-number: true\n",
    "    code-fold: true\n",
    "    echo: false\n",
    "    output: true\n",
    "bibliography: ../reference.bib\n",
    "---\n",
    "\n",
    "## The first slide\n",
    "\n",
    "- This is a quote. [@sharma2018nickel]\n",
    "\n",
    "## The second slide\n",
    "\n",
    "::: {layout-ncol=2}\n",
    "\n",
    "![First Image](./images/image1.png){fig-align=\"left\" width=\"6.62in\" height=\"4in\"}\n",
    "\n",
    "![Second Image](./images/image2.png){fig-align=\"left\" width=\"6.14in\" height=\"4in\"}\n",
    "\n",
    ":::\n",
    "\n",
    "## The third slide\n",
    "\n",
    "```{python}\n",
    "import matplotlib.pyplot as plt\n",
    "import numpy as np\n",
    "x = np.arange(0, 10, 0.01)\n",
    "y = np.cos(x)\n",
    "plt.plot(x, y)\n",
    "plt.show()\n",
    "```\n",
    "\n",
    "## Reference\n",
    "\n",
    "::: {#refs}\n",
    ":::\n"
   ]
  }
 ],
 "metadata": {
  "language_info": {
   "name": "python"
  }
 },
 "nbformat": 4,
 "nbformat_minor": 2
}
